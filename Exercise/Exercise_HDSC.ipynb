{
 "cells": [
  {
   "cell_type": "code",
   "execution_count": 2,
   "metadata": {},
   "outputs": [],
   "source": [
    "import pandas as pd \n",
    "import numpy as np"
   ]
  },
  {
   "cell_type": "code",
   "execution_count": 18,
   "metadata": {},
   "outputs": [
    {
     "data": {
      "text/html": [
       "<div>\n",
       "<style scoped>\n",
       "    .dataframe tbody tr th:only-of-type {\n",
       "        vertical-align: middle;\n",
       "    }\n",
       "\n",
       "    .dataframe tbody tr th {\n",
       "        vertical-align: top;\n",
       "    }\n",
       "\n",
       "    .dataframe thead th {\n",
       "        text-align: right;\n",
       "    }\n",
       "</style>\n",
       "<table border=\"1\" class=\"dataframe\">\n",
       "  <thead>\n",
       "    <tr style=\"text-align: right;\">\n",
       "      <th></th>\n",
       "      <th>Area Code</th>\n",
       "      <th>Area</th>\n",
       "      <th>Item Code</th>\n",
       "      <th>Item</th>\n",
       "      <th>Element Code</th>\n",
       "      <th>Element</th>\n",
       "      <th>Unit</th>\n",
       "      <th>Y2014</th>\n",
       "      <th>Y2015</th>\n",
       "      <th>Y2016</th>\n",
       "      <th>Y2017</th>\n",
       "      <th>Y2018</th>\n",
       "    </tr>\n",
       "  </thead>\n",
       "  <tbody>\n",
       "    <tr>\n",
       "      <th>0</th>\n",
       "      <td>4</td>\n",
       "      <td>Algeria</td>\n",
       "      <td>2501</td>\n",
       "      <td>Population</td>\n",
       "      <td>511</td>\n",
       "      <td>Total Population - Both sexes</td>\n",
       "      <td>1000 persons</td>\n",
       "      <td>38924.00</td>\n",
       "      <td>39728.00</td>\n",
       "      <td>40551.00</td>\n",
       "      <td>41389.00</td>\n",
       "      <td>42228.00</td>\n",
       "    </tr>\n",
       "    <tr>\n",
       "      <th>1</th>\n",
       "      <td>4</td>\n",
       "      <td>Algeria</td>\n",
       "      <td>2501</td>\n",
       "      <td>Population</td>\n",
       "      <td>5301</td>\n",
       "      <td>Domestic supply quantity</td>\n",
       "      <td>1000 tonnes</td>\n",
       "      <td>0.00</td>\n",
       "      <td>0.00</td>\n",
       "      <td>0.00</td>\n",
       "      <td>0.00</td>\n",
       "      <td>0.00</td>\n",
       "    </tr>\n",
       "    <tr>\n",
       "      <th>2</th>\n",
       "      <td>4</td>\n",
       "      <td>Algeria</td>\n",
       "      <td>2901</td>\n",
       "      <td>Grand Total</td>\n",
       "      <td>664</td>\n",
       "      <td>Food supply (kcal/capita/day)</td>\n",
       "      <td>kcal/capita/day</td>\n",
       "      <td>3377.00</td>\n",
       "      <td>3379.00</td>\n",
       "      <td>3372.00</td>\n",
       "      <td>3341.00</td>\n",
       "      <td>3322.00</td>\n",
       "    </tr>\n",
       "    <tr>\n",
       "      <th>3</th>\n",
       "      <td>4</td>\n",
       "      <td>Algeria</td>\n",
       "      <td>2901</td>\n",
       "      <td>Grand Total</td>\n",
       "      <td>674</td>\n",
       "      <td>Protein supply quantity (g/capita/day)</td>\n",
       "      <td>g/capita/day</td>\n",
       "      <td>94.90</td>\n",
       "      <td>94.35</td>\n",
       "      <td>94.72</td>\n",
       "      <td>92.82</td>\n",
       "      <td>91.83</td>\n",
       "    </tr>\n",
       "    <tr>\n",
       "      <th>4</th>\n",
       "      <td>4</td>\n",
       "      <td>Algeria</td>\n",
       "      <td>2901</td>\n",
       "      <td>Grand Total</td>\n",
       "      <td>684</td>\n",
       "      <td>Fat supply quantity (g/capita/day)</td>\n",
       "      <td>g/capita/day</td>\n",
       "      <td>80.06</td>\n",
       "      <td>79.36</td>\n",
       "      <td>77.40</td>\n",
       "      <td>80.19</td>\n",
       "      <td>77.28</td>\n",
       "    </tr>\n",
       "    <tr>\n",
       "      <th>...</th>\n",
       "      <td>...</td>\n",
       "      <td>...</td>\n",
       "      <td>...</td>\n",
       "      <td>...</td>\n",
       "      <td>...</td>\n",
       "      <td>...</td>\n",
       "      <td>...</td>\n",
       "      <td>...</td>\n",
       "      <td>...</td>\n",
       "      <td>...</td>\n",
       "      <td>...</td>\n",
       "      <td>...</td>\n",
       "    </tr>\n",
       "    <tr>\n",
       "      <th>60938</th>\n",
       "      <td>181</td>\n",
       "      <td>Zimbabwe</td>\n",
       "      <td>2899</td>\n",
       "      <td>Miscellaneous</td>\n",
       "      <td>5142</td>\n",
       "      <td>Food</td>\n",
       "      <td>1000 tonnes</td>\n",
       "      <td>42.00</td>\n",
       "      <td>46.00</td>\n",
       "      <td>33.00</td>\n",
       "      <td>19.00</td>\n",
       "      <td>16.00</td>\n",
       "    </tr>\n",
       "    <tr>\n",
       "      <th>60939</th>\n",
       "      <td>181</td>\n",
       "      <td>Zimbabwe</td>\n",
       "      <td>2899</td>\n",
       "      <td>Miscellaneous</td>\n",
       "      <td>645</td>\n",
       "      <td>Food supply quantity (kg/capita/yr)</td>\n",
       "      <td>kg</td>\n",
       "      <td>3.06</td>\n",
       "      <td>3.33</td>\n",
       "      <td>2.35</td>\n",
       "      <td>1.33</td>\n",
       "      <td>1.08</td>\n",
       "    </tr>\n",
       "    <tr>\n",
       "      <th>60940</th>\n",
       "      <td>181</td>\n",
       "      <td>Zimbabwe</td>\n",
       "      <td>2899</td>\n",
       "      <td>Miscellaneous</td>\n",
       "      <td>664</td>\n",
       "      <td>Food supply (kcal/capita/day)</td>\n",
       "      <td>kcal/capita/day</td>\n",
       "      <td>3.00</td>\n",
       "      <td>4.00</td>\n",
       "      <td>3.00</td>\n",
       "      <td>1.00</td>\n",
       "      <td>1.00</td>\n",
       "    </tr>\n",
       "    <tr>\n",
       "      <th>60941</th>\n",
       "      <td>181</td>\n",
       "      <td>Zimbabwe</td>\n",
       "      <td>2899</td>\n",
       "      <td>Miscellaneous</td>\n",
       "      <td>674</td>\n",
       "      <td>Protein supply quantity (g/capita/day)</td>\n",
       "      <td>g/capita/day</td>\n",
       "      <td>0.10</td>\n",
       "      <td>0.11</td>\n",
       "      <td>0.08</td>\n",
       "      <td>0.04</td>\n",
       "      <td>0.04</td>\n",
       "    </tr>\n",
       "    <tr>\n",
       "      <th>60942</th>\n",
       "      <td>181</td>\n",
       "      <td>Zimbabwe</td>\n",
       "      <td>2899</td>\n",
       "      <td>Miscellaneous</td>\n",
       "      <td>684</td>\n",
       "      <td>Fat supply quantity (g/capita/day)</td>\n",
       "      <td>g/capita/day</td>\n",
       "      <td>0.04</td>\n",
       "      <td>0.05</td>\n",
       "      <td>0.03</td>\n",
       "      <td>0.02</td>\n",
       "      <td>0.01</td>\n",
       "    </tr>\n",
       "  </tbody>\n",
       "</table>\n",
       "<p>60943 rows × 12 columns</p>\n",
       "</div>"
      ],
      "text/plain": [
       "       Area Code      Area  Item Code           Item  Element Code   \n",
       "0              4   Algeria       2501     Population           511  \\\n",
       "1              4   Algeria       2501     Population          5301   \n",
       "2              4   Algeria       2901    Grand Total           664   \n",
       "3              4   Algeria       2901    Grand Total           674   \n",
       "4              4   Algeria       2901    Grand Total           684   \n",
       "...          ...       ...        ...            ...           ...   \n",
       "60938        181  Zimbabwe       2899  Miscellaneous          5142   \n",
       "60939        181  Zimbabwe       2899  Miscellaneous           645   \n",
       "60940        181  Zimbabwe       2899  Miscellaneous           664   \n",
       "60941        181  Zimbabwe       2899  Miscellaneous           674   \n",
       "60942        181  Zimbabwe       2899  Miscellaneous           684   \n",
       "\n",
       "                                      Element             Unit     Y2014   \n",
       "0               Total Population - Both sexes     1000 persons  38924.00  \\\n",
       "1                    Domestic supply quantity      1000 tonnes      0.00   \n",
       "2               Food supply (kcal/capita/day)  kcal/capita/day   3377.00   \n",
       "3      Protein supply quantity (g/capita/day)     g/capita/day     94.90   \n",
       "4          Fat supply quantity (g/capita/day)     g/capita/day     80.06   \n",
       "...                                       ...              ...       ...   \n",
       "60938                                    Food      1000 tonnes     42.00   \n",
       "60939     Food supply quantity (kg/capita/yr)               kg      3.06   \n",
       "60940           Food supply (kcal/capita/day)  kcal/capita/day      3.00   \n",
       "60941  Protein supply quantity (g/capita/day)     g/capita/day      0.10   \n",
       "60942      Fat supply quantity (g/capita/day)     g/capita/day      0.04   \n",
       "\n",
       "          Y2015     Y2016     Y2017     Y2018  \n",
       "0      39728.00  40551.00  41389.00  42228.00  \n",
       "1          0.00      0.00      0.00      0.00  \n",
       "2       3379.00   3372.00   3341.00   3322.00  \n",
       "3         94.35     94.72     92.82     91.83  \n",
       "4         79.36     77.40     80.19     77.28  \n",
       "...         ...       ...       ...       ...  \n",
       "60938     46.00     33.00     19.00     16.00  \n",
       "60939      3.33      2.35      1.33      1.08  \n",
       "60940      4.00      3.00      1.00      1.00  \n",
       "60941      0.11      0.08      0.04      0.04  \n",
       "60942      0.05      0.03      0.02      0.01  \n",
       "\n",
       "[60943 rows x 12 columns]"
      ]
     },
     "execution_count": 18,
     "metadata": {},
     "output_type": "execute_result"
    }
   ],
   "source": [
    "df = pd.read_csv('data/FoodBalanceSheets_E_Africa_NOFLAG.csv', encoding=\"latin-1\")\n",
    "df"
   ]
  },
  {
   "attachments": {},
   "cell_type": "markdown",
   "metadata": {},
   "source": [
    "### Q1. Select columns ‘Y2017’ and ‘Area’, Perform a groupby operation on ‘Area’.  Which of these Areas had the 7th lowest sum in 2017?\n",
    "\n",
    "\n",
    "\n",
    "\n",
    "\n",
    "\n"
   ]
  },
  {
   "cell_type": "code",
   "execution_count": 15,
   "metadata": {},
   "outputs": [
    {
     "data": {
      "text/plain": [
       "Area\n",
       "Sudan (former)               0.00\n",
       "Ethiopia PDR                 0.00\n",
       "Comoros                     59.84\n",
       "Seychelles                 442.34\n",
       "Sao Tome and Principe    12662.63\n",
       "Cabo Verde               14650.74\n",
       "Guinea-Bissau            19102.77\n",
       "Name: Y2017, dtype: float64"
      ]
     },
     "execution_count": 15,
     "metadata": {},
     "output_type": "execute_result"
    }
   ],
   "source": [
    "area_2017  = df.groupby('Area')['Y2017'].sum().sort_values()\n",
    "area_2017.head(7)\n",
    "\n",
    "#"
   ]
  },
  {
   "attachments": {},
   "cell_type": "markdown",
   "metadata": {},
   "source": [
    "### Q2. Perform a groupby operation on ‘Element’.  What year has the highest sum of Stock Variation?"
   ]
  },
  {
   "cell_type": "code",
   "execution_count": 53,
   "metadata": {},
   "outputs": [
    {
     "name": "stdout",
     "output_type": "stream",
     "text": [
      " Year with highest sum of Stock Variation' for each element is Element Code  Element                               \n",
      "511           Total Population - Both sexes             Y2018\n",
      "645           Food supply quantity (kg/capita/yr)       Y2014\n",
      "664           Food supply (kcal/capita/day)             Y2018\n",
      "674           Protein supply quantity (g/capita/day)    Y2017\n",
      "684           Fat supply quantity (g/capita/day)        Y2018\n",
      "5072          Stock Variation                           Y2014\n",
      "5123          Losses                                    Y2018\n",
      "5131          Processing                                Y2018\n",
      "5142          Food                                      Y2018\n",
      "5154          Other uses (non-food)                     Y2017\n",
      "5170          Residuals                                 Y2016\n",
      "5171          Tourist consumption                       Y2014\n",
      "5301          Domestic supply quantity                  Y2018\n",
      "5511          Production                                Y2018\n",
      "5521          Feed                                      Y2018\n",
      "5527          Seed                                      Y2018\n",
      "5611          Import Quantity                           Y2017\n",
      "5911          Export Quantity                           Y2017\n",
      "dtype: object.\n"
     ]
    }
   ],
   "source": [
    "element_grp = df.groupby(['Element Code','Element'])[['Y2014', 'Y2015', 'Y2016', 'Y2017', 'Y2018']].sum()\n",
    "max_year = element_grp.idxmax(axis=1)\n",
    "\n",
    "print(f\" Year with highest sum of Stock Variation' for each element is {max_year}.\")\n"
   ]
  },
  {
   "attachments": {},
   "cell_type": "markdown",
   "metadata": {},
   "source": [
    "### Q3. What is the total number and percentage of missing data in 2014 to 3 decimal places?"
   ]
  },
  {
   "cell_type": "code",
   "execution_count": 67,
   "metadata": {},
   "outputs": [
    {
     "data": {
      "text/plain": [
       "(60943, 12)"
      ]
     },
     "execution_count": 67,
     "metadata": {},
     "output_type": "execute_result"
    }
   ],
   "source": [
    "# Lets first describe the shape of our data set and represent the total rows and columns.\n",
    "# Making the rows represent sum of all data in \n",
    "\n",
    "df.shape\n"
   ]
  },
  {
   "cell_type": "code",
   "execution_count": 70,
   "metadata": {},
   "outputs": [
    {
     "name": "stdout",
     "output_type": "stream",
     "text": [
      "The total number of missing data is: 1589\n",
      "The percentage is: 2.607\n"
     ]
    }
   ],
   "source": [
    "\n",
    "total_missing_values_df = df.isnull().sum() \n",
    "#print(total_missing_values_df)\n",
    "\n",
    "\n",
    "missing_2014 = total_missing_values_df[7]\n",
    "print(\"The total number of missing data is:\", missing_2014)\n",
    "\n",
    "percentage_2014 = (missing_2014 / 60943) * 100\n",
    "\n",
    "print(\"The percentage is:\", percentage_2014.round(3))\n",
    "\n"
   ]
  },
  {
   "attachments": {},
   "cell_type": "markdown",
   "metadata": {},
   "source": [
    "### Q4. If you have the following list\n",
    "\n",
    "lst = [[35, 'Portugal', 94], [33, 'Argentina', 93], [30 , 'Brazil', 92]]\n",
    "\n",
    "col = [‘Age’,’Nationality’,’Overall’]\n",
    "\n",
    "How do you create a pandas DataFrame using this list, to look like the table below?"
   ]
  },
  {
   "cell_type": "code",
   "execution_count": 75,
   "metadata": {},
   "outputs": [
    {
     "data": {
      "text/html": [
       "<div>\n",
       "<style scoped>\n",
       "    .dataframe tbody tr th:only-of-type {\n",
       "        vertical-align: middle;\n",
       "    }\n",
       "\n",
       "    .dataframe tbody tr th {\n",
       "        vertical-align: top;\n",
       "    }\n",
       "\n",
       "    .dataframe thead th {\n",
       "        text-align: right;\n",
       "    }\n",
       "</style>\n",
       "<table border=\"1\" class=\"dataframe\">\n",
       "  <thead>\n",
       "    <tr style=\"text-align: right;\">\n",
       "      <th></th>\n",
       "      <th>Age</th>\n",
       "      <th>Nationality</th>\n",
       "      <th>Overall</th>\n",
       "    </tr>\n",
       "  </thead>\n",
       "  <tbody>\n",
       "    <tr>\n",
       "      <th>1</th>\n",
       "      <td>35</td>\n",
       "      <td>Portugal</td>\n",
       "      <td>94</td>\n",
       "    </tr>\n",
       "    <tr>\n",
       "      <th>2</th>\n",
       "      <td>33</td>\n",
       "      <td>Argentina</td>\n",
       "      <td>93</td>\n",
       "    </tr>\n",
       "    <tr>\n",
       "      <th>3</th>\n",
       "      <td>30</td>\n",
       "      <td>Brazil</td>\n",
       "      <td>92</td>\n",
       "    </tr>\n",
       "  </tbody>\n",
       "</table>\n",
       "</div>"
      ],
      "text/plain": [
       "   Age Nationality  Overall\n",
       "1   35    Portugal       94\n",
       "2   33   Argentina       93\n",
       "3   30      Brazil       92"
      ]
     },
     "execution_count": 75,
     "metadata": {},
     "output_type": "execute_result"
    }
   ],
   "source": [
    "\n",
    "lst = [[35, 'Portugal', 94], [33, 'Argentina', 93], [30 , 'Brazil', 92]]\n",
    "\n",
    "col = ['Age','Nationality','Overall']\n",
    "\n",
    "df2 = pd.DataFrame(lst, columns = col, index = [1,2,3])\n",
    "df2"
   ]
  },
  {
   "attachments": {},
   "cell_type": "markdown",
   "metadata": {},
   "source": [
    "### Q5. Which year had the least correlation with ‘Element Code’?"
   ]
  },
  {
   "cell_type": "code",
   "execution_count": 155,
   "metadata": {},
   "outputs": [],
   "source": [
    "\n",
    "\n",
    "def calculate_correlation(df, column1, column2):\n",
    "    correlation = (df[column1].corr(df[column2]).round(3))*100\n",
    "    return print(f\"Correlation with 'Element Code' for year {column2}\", correlation)\n",
    "\n",
    "\n",
    "\n"
   ]
  },
  {
   "cell_type": "code",
   "execution_count": 156,
   "metadata": {},
   "outputs": [
    {
     "name": "stdout",
     "output_type": "stream",
     "text": [
      "Correlation with 'Element Code' for year Y2014 2.4\n",
      "Correlation with 'Element Code' for year Y2015 2.4\n",
      "Correlation with 'Element Code' for year Y2016 2.3\n",
      "Correlation with 'Element Code' for year Y2017 2.4\n",
      "Correlation with 'Element Code' for year Y2018 2.4\n"
     ]
    }
   ],
   "source": [
    "# Calculate the percentage correlation between 'Element Code' and 'Y2014' to 'Y2018'\n",
    "\n",
    "correlation_years = calculate_correlation(df, 'Element Code', 'Y2014')\n",
    "correlation_years = calculate_correlation(df, 'Element Code', 'Y2015')\n",
    "correlation_years = calculate_correlation(df, 'Element Code', 'Y2016')\n",
    "correlation_years = calculate_correlation(df, 'Element Code', 'Y2017')\n",
    "correlation_years = calculate_correlation(df, 'Element Code', 'Y2018')\n",
    "\n"
   ]
  },
  {
   "attachments": {},
   "cell_type": "markdown",
   "metadata": {},
   "source": [
    "### Q6. What is the mean and standard ddeviation across the whole dataset for the year 2017 to 2 dp?"
   ]
  },
  {
   "cell_type": "code",
   "execution_count": 12,
   "metadata": {},
   "outputs": [
    {
     "name": "stdout",
     "output_type": "stream",
     "text": [
      "The Mean : 140.92\n",
      "The Standart Deviation: 1671.86\n"
     ]
    }
   ],
   "source": [
    "# Calculate mean 'Y2017' column in our dataset\n",
    "\n",
    "mean_2017 = df['Y2017'].mean().round(2)\n",
    "\n",
    "# Calculate standard deviation 'Y2017' column in our dataset\n",
    "\n",
    "std_2017 = df['Y2017'].std().round(2)\n",
    "\n",
    "print(f\"The Mean : {mean_2017}\")\n",
    "      \n",
    "print(f\"The Standart Deviation: {std_2017}\")\n",
    "\n"
   ]
  },
  {
   "attachments": {},
   "cell_type": "markdown",
   "metadata": {},
   "source": [
    "### Q7. Perform a groupby operation on 'Element'. What is the total number of the sum of Processing in 2017?"
   ]
  },
  {
   "cell_type": "code",
   "execution_count": 13,
   "metadata": {},
   "outputs": [
    {
     "data": {
      "text/html": [
       "<div>\n",
       "<style scoped>\n",
       "    .dataframe tbody tr th:only-of-type {\n",
       "        vertical-align: middle;\n",
       "    }\n",
       "\n",
       "    .dataframe tbody tr th {\n",
       "        vertical-align: top;\n",
       "    }\n",
       "\n",
       "    .dataframe thead th {\n",
       "        text-align: right;\n",
       "    }\n",
       "</style>\n",
       "<table border=\"1\" class=\"dataframe\">\n",
       "  <thead>\n",
       "    <tr style=\"text-align: right;\">\n",
       "      <th></th>\n",
       "      <th>Element</th>\n",
       "      <th>Y2017</th>\n",
       "    </tr>\n",
       "  </thead>\n",
       "  <tbody>\n",
       "    <tr>\n",
       "      <th>0</th>\n",
       "      <td>Total Population - Both sexes</td>\n",
       "      <td>41389.00</td>\n",
       "    </tr>\n",
       "    <tr>\n",
       "      <th>1</th>\n",
       "      <td>Domestic supply quantity</td>\n",
       "      <td>0.00</td>\n",
       "    </tr>\n",
       "    <tr>\n",
       "      <th>2</th>\n",
       "      <td>Food supply (kcal/capita/day)</td>\n",
       "      <td>3341.00</td>\n",
       "    </tr>\n",
       "    <tr>\n",
       "      <th>3</th>\n",
       "      <td>Protein supply quantity (g/capita/day)</td>\n",
       "      <td>92.82</td>\n",
       "    </tr>\n",
       "    <tr>\n",
       "      <th>4</th>\n",
       "      <td>Fat supply quantity (g/capita/day)</td>\n",
       "      <td>80.19</td>\n",
       "    </tr>\n",
       "  </tbody>\n",
       "</table>\n",
       "</div>"
      ],
      "text/plain": [
       "                                  Element     Y2017\n",
       "0           Total Population - Both sexes  41389.00\n",
       "1                Domestic supply quantity      0.00\n",
       "2           Food supply (kcal/capita/day)   3341.00\n",
       "3  Protein supply quantity (g/capita/day)     92.82\n",
       "4      Fat supply quantity (g/capita/day)     80.19"
      ]
     },
     "execution_count": 13,
     "metadata": {},
     "output_type": "execute_result"
    }
   ],
   "source": [
    "df[['Element', 'Y2017']].head()"
   ]
  },
  {
   "cell_type": "code",
   "execution_count": 55,
   "metadata": {},
   "outputs": [
    {
     "data": {
      "text/plain": [
       "Element\n",
       "False    8082893.19\n",
       "True      292836.00\n",
       "Name: Y2017, dtype: float64"
      ]
     },
     "execution_count": 55,
     "metadata": {},
     "output_type": "execute_result"
    }
   ],
   "source": [
    "element_processing = df.groupby(df['Element'] == 'Processing')\n",
    "element_processing\n",
    "\n",
    "\n",
    "\n",
    "total_processing_2017 = element_processing['Y2017'].sum()\n",
    "total_processing_2017"
   ]
  },
  {
   "attachments": {},
   "cell_type": "markdown",
   "metadata": {},
   "source": [
    "### Q8. Given the following numpy array :\n",
    "\n",
    "array = ([[94, 89, 63], \n",
    "        [93, 92, 48],\n",
    "         [92, 94, 56]])\n",
    "\n",
    "How would you select the elements in bold and italics from the array?\n"
   ]
  },
  {
   "cell_type": "code",
   "execution_count": 11,
   "metadata": {},
   "outputs": [
    {
     "name": "stdout",
     "output_type": "stream",
     "text": [
      "a.  [[89 63]\n",
      " [92 48]]\n",
      "b.  [[89 63]]\n",
      "c. [[93 92 48]\n",
      " [92 94 56]]\n",
      "d.  [[89 63]]\n"
     ]
    }
   ],
   "source": [
    "# select 89, 63, 93, 48\n",
    "\n",
    "\n",
    "array = np.array([[94, 89, 63],\n",
    "        [93, 92, 48],\n",
    "         [92, 94, 56]])\n",
    "\n",
    "a = array[:2, 1:]\n",
    "print(\"a. \", a)\n",
    "b = array[:1, 1:]\n",
    "print(\"b. \", b)\n",
    "c = array[1:, :]\n",
    "print(\"c.\" ,c)\n",
    "d = array[:1, 1:]\n",
    "print(\"d. \", d)\n"
   ]
  },
  {
   "attachments": {},
   "cell_type": "markdown",
   "metadata": {},
   "source": [
    "### Q9. Which of the following is a python inbuilt module?\n",
    "#### Answer: \n",
    "> ## Math"
   ]
  },
  {
   "attachments": {},
   "cell_type": "markdown",
   "metadata": {},
   "source": [
    "### Q10. Which of these python data structures is unorderly?\n",
    "\n",
    "## Answer: \n",
    "> ## Set"
   ]
  },
  {
   "attachments": {},
   "cell_type": "markdown",
   "metadata": {},
   "source": [
    "### Q11. How would you check for the number of rows and columns in a pandas DataFrame named df?\n",
    "\n",
    "## Answer: \n",
    "> ## \n",
    "## Answer: \n",
    "> ## df.shape\n",
    "\n"
   ]
  },
  {
   "attachments": {},
   "cell_type": "markdown",
   "metadata": {},
   "source": [
    "### Q12. What would be the output for?\n",
    "\n",
    "> S = [['him', 'sell'], [90, 28, 43]]\n",
    "\n",
    ">S[0][1][1]"
   ]
  },
  {
   "cell_type": "code",
   "execution_count": 12,
   "metadata": {},
   "outputs": [
    {
     "data": {
      "text/plain": [
       "'e'"
      ]
     },
     "execution_count": 12,
     "metadata": {},
     "output_type": "execute_result"
    }
   ],
   "source": [
    "S = [['him', 'sell'], [90, 28, 43]]\n",
    "\n",
    "S[0][1][1]"
   ]
  },
  {
   "attachments": {},
   "cell_type": "markdown",
   "metadata": {},
   "source": [
    "### Q13. Consider the following list of tuples:\n",
    "\n",
    ">y = [(2, 4), (7, 8), (1, 5, 9)]\n",
    "\n",
    "How would you assign element 8 from the list to a variable x"
   ]
  },
  {
   "cell_type": "code",
   "execution_count": 16,
   "metadata": {},
   "outputs": [
    {
     "data": {
      "text/plain": [
       "8"
      ]
     },
     "execution_count": 16,
     "metadata": {},
     "output_type": "execute_result"
    }
   ],
   "source": [
    "y = [(2, 4), (7, 8), (1, 5, 9)]\n",
    "\n",
    "x = y[1][-1]\n",
    "x"
   ]
  },
  {
   "attachments": {},
   "cell_type": "markdown",
   "metadata": {},
   "source": [
    "### Q14. What is the total number of unique countries in the dataset?\n"
   ]
  },
  {
   "cell_type": "code",
   "execution_count": 28,
   "metadata": {},
   "outputs": [
    {
     "data": {
      "text/plain": [
       "(49,)"
      ]
     },
     "execution_count": 28,
     "metadata": {},
     "output_type": "execute_result"
    }
   ],
   "source": [
    "unique_countries = df['Area'].unique()\n",
    "unique_countries.shape"
   ]
  },
  {
   "attachments": {},
   "cell_type": "markdown",
   "metadata": {},
   "source": [
    "### Q15. Which of the follwoing dataframe methods can be used to access elements across rows and columns?"
   ]
  },
  {
   "cell_type": "code",
   "execution_count": 39,
   "metadata": {},
   "outputs": [
    {
     "data": {
      "text/html": [
       "<div>\n",
       "<style scoped>\n",
       "    .dataframe tbody tr th:only-of-type {\n",
       "        vertical-align: middle;\n",
       "    }\n",
       "\n",
       "    .dataframe tbody tr th {\n",
       "        vertical-align: top;\n",
       "    }\n",
       "\n",
       "    .dataframe thead th {\n",
       "        text-align: right;\n",
       "    }\n",
       "</style>\n",
       "<table border=\"1\" class=\"dataframe\">\n",
       "  <thead>\n",
       "    <tr style=\"text-align: right;\">\n",
       "      <th></th>\n",
       "      <th>Area Code</th>\n",
       "      <th>Area</th>\n",
       "      <th>Item Code</th>\n",
       "      <th>Item</th>\n",
       "      <th>Element Code</th>\n",
       "      <th>Element</th>\n",
       "      <th>Unit</th>\n",
       "      <th>Y2014</th>\n",
       "      <th>Y2015</th>\n",
       "      <th>Y2016</th>\n",
       "      <th>Y2017</th>\n",
       "      <th>Y2018</th>\n",
       "    </tr>\n",
       "  </thead>\n",
       "  <tbody>\n",
       "    <tr>\n",
       "      <th>0</th>\n",
       "      <td>4</td>\n",
       "      <td>Algeria</td>\n",
       "      <td>2501</td>\n",
       "      <td>Population</td>\n",
       "      <td>511</td>\n",
       "      <td>Total Population - Both sexes</td>\n",
       "      <td>1000 persons</td>\n",
       "      <td>38924.00</td>\n",
       "      <td>39728.00</td>\n",
       "      <td>40551.00</td>\n",
       "      <td>41389.00</td>\n",
       "      <td>42228.00</td>\n",
       "    </tr>\n",
       "    <tr>\n",
       "      <th>1</th>\n",
       "      <td>4</td>\n",
       "      <td>Algeria</td>\n",
       "      <td>2501</td>\n",
       "      <td>Population</td>\n",
       "      <td>5301</td>\n",
       "      <td>Domestic supply quantity</td>\n",
       "      <td>1000 tonnes</td>\n",
       "      <td>0.00</td>\n",
       "      <td>0.00</td>\n",
       "      <td>0.00</td>\n",
       "      <td>0.00</td>\n",
       "      <td>0.00</td>\n",
       "    </tr>\n",
       "    <tr>\n",
       "      <th>2</th>\n",
       "      <td>4</td>\n",
       "      <td>Algeria</td>\n",
       "      <td>2901</td>\n",
       "      <td>Grand Total</td>\n",
       "      <td>664</td>\n",
       "      <td>Food supply (kcal/capita/day)</td>\n",
       "      <td>kcal/capita/day</td>\n",
       "      <td>3377.00</td>\n",
       "      <td>3379.00</td>\n",
       "      <td>3372.00</td>\n",
       "      <td>3341.00</td>\n",
       "      <td>3322.00</td>\n",
       "    </tr>\n",
       "    <tr>\n",
       "      <th>3</th>\n",
       "      <td>4</td>\n",
       "      <td>Algeria</td>\n",
       "      <td>2901</td>\n",
       "      <td>Grand Total</td>\n",
       "      <td>674</td>\n",
       "      <td>Protein supply quantity (g/capita/day)</td>\n",
       "      <td>g/capita/day</td>\n",
       "      <td>94.90</td>\n",
       "      <td>94.35</td>\n",
       "      <td>94.72</td>\n",
       "      <td>92.82</td>\n",
       "      <td>91.83</td>\n",
       "    </tr>\n",
       "    <tr>\n",
       "      <th>4</th>\n",
       "      <td>4</td>\n",
       "      <td>Algeria</td>\n",
       "      <td>2901</td>\n",
       "      <td>Grand Total</td>\n",
       "      <td>684</td>\n",
       "      <td>Fat supply quantity (g/capita/day)</td>\n",
       "      <td>g/capita/day</td>\n",
       "      <td>80.06</td>\n",
       "      <td>79.36</td>\n",
       "      <td>77.40</td>\n",
       "      <td>80.19</td>\n",
       "      <td>77.28</td>\n",
       "    </tr>\n",
       "    <tr>\n",
       "      <th>...</th>\n",
       "      <td>...</td>\n",
       "      <td>...</td>\n",
       "      <td>...</td>\n",
       "      <td>...</td>\n",
       "      <td>...</td>\n",
       "      <td>...</td>\n",
       "      <td>...</td>\n",
       "      <td>...</td>\n",
       "      <td>...</td>\n",
       "      <td>...</td>\n",
       "      <td>...</td>\n",
       "      <td>...</td>\n",
       "    </tr>\n",
       "    <tr>\n",
       "      <th>60938</th>\n",
       "      <td>181</td>\n",
       "      <td>Zimbabwe</td>\n",
       "      <td>2899</td>\n",
       "      <td>Miscellaneous</td>\n",
       "      <td>5142</td>\n",
       "      <td>Food</td>\n",
       "      <td>1000 tonnes</td>\n",
       "      <td>42.00</td>\n",
       "      <td>46.00</td>\n",
       "      <td>33.00</td>\n",
       "      <td>19.00</td>\n",
       "      <td>16.00</td>\n",
       "    </tr>\n",
       "    <tr>\n",
       "      <th>60939</th>\n",
       "      <td>181</td>\n",
       "      <td>Zimbabwe</td>\n",
       "      <td>2899</td>\n",
       "      <td>Miscellaneous</td>\n",
       "      <td>645</td>\n",
       "      <td>Food supply quantity (kg/capita/yr)</td>\n",
       "      <td>kg</td>\n",
       "      <td>3.06</td>\n",
       "      <td>3.33</td>\n",
       "      <td>2.35</td>\n",
       "      <td>1.33</td>\n",
       "      <td>1.08</td>\n",
       "    </tr>\n",
       "    <tr>\n",
       "      <th>60940</th>\n",
       "      <td>181</td>\n",
       "      <td>Zimbabwe</td>\n",
       "      <td>2899</td>\n",
       "      <td>Miscellaneous</td>\n",
       "      <td>664</td>\n",
       "      <td>Food supply (kcal/capita/day)</td>\n",
       "      <td>kcal/capita/day</td>\n",
       "      <td>3.00</td>\n",
       "      <td>4.00</td>\n",
       "      <td>3.00</td>\n",
       "      <td>1.00</td>\n",
       "      <td>1.00</td>\n",
       "    </tr>\n",
       "    <tr>\n",
       "      <th>60941</th>\n",
       "      <td>181</td>\n",
       "      <td>Zimbabwe</td>\n",
       "      <td>2899</td>\n",
       "      <td>Miscellaneous</td>\n",
       "      <td>674</td>\n",
       "      <td>Protein supply quantity (g/capita/day)</td>\n",
       "      <td>g/capita/day</td>\n",
       "      <td>0.10</td>\n",
       "      <td>0.11</td>\n",
       "      <td>0.08</td>\n",
       "      <td>0.04</td>\n",
       "      <td>0.04</td>\n",
       "    </tr>\n",
       "    <tr>\n",
       "      <th>60942</th>\n",
       "      <td>181</td>\n",
       "      <td>Zimbabwe</td>\n",
       "      <td>2899</td>\n",
       "      <td>Miscellaneous</td>\n",
       "      <td>684</td>\n",
       "      <td>Fat supply quantity (g/capita/day)</td>\n",
       "      <td>g/capita/day</td>\n",
       "      <td>0.04</td>\n",
       "      <td>0.05</td>\n",
       "      <td>0.03</td>\n",
       "      <td>0.02</td>\n",
       "      <td>0.01</td>\n",
       "    </tr>\n",
       "  </tbody>\n",
       "</table>\n",
       "<p>60943 rows × 12 columns</p>\n",
       "</div>"
      ],
      "text/plain": [
       "       Area Code      Area  Item Code           Item  Element Code   \n",
       "0              4   Algeria       2501     Population           511  \\\n",
       "1              4   Algeria       2501     Population          5301   \n",
       "2              4   Algeria       2901    Grand Total           664   \n",
       "3              4   Algeria       2901    Grand Total           674   \n",
       "4              4   Algeria       2901    Grand Total           684   \n",
       "...          ...       ...        ...            ...           ...   \n",
       "60938        181  Zimbabwe       2899  Miscellaneous          5142   \n",
       "60939        181  Zimbabwe       2899  Miscellaneous           645   \n",
       "60940        181  Zimbabwe       2899  Miscellaneous           664   \n",
       "60941        181  Zimbabwe       2899  Miscellaneous           674   \n",
       "60942        181  Zimbabwe       2899  Miscellaneous           684   \n",
       "\n",
       "                                      Element             Unit     Y2014   \n",
       "0               Total Population - Both sexes     1000 persons  38924.00  \\\n",
       "1                    Domestic supply quantity      1000 tonnes      0.00   \n",
       "2               Food supply (kcal/capita/day)  kcal/capita/day   3377.00   \n",
       "3      Protein supply quantity (g/capita/day)     g/capita/day     94.90   \n",
       "4          Fat supply quantity (g/capita/day)     g/capita/day     80.06   \n",
       "...                                       ...              ...       ...   \n",
       "60938                                    Food      1000 tonnes     42.00   \n",
       "60939     Food supply quantity (kg/capita/yr)               kg      3.06   \n",
       "60940           Food supply (kcal/capita/day)  kcal/capita/day      3.00   \n",
       "60941  Protein supply quantity (g/capita/day)     g/capita/day      0.10   \n",
       "60942      Fat supply quantity (g/capita/day)     g/capita/day      0.04   \n",
       "\n",
       "          Y2015     Y2016     Y2017     Y2018  \n",
       "0      39728.00  40551.00  41389.00  42228.00  \n",
       "1          0.00      0.00      0.00      0.00  \n",
       "2       3379.00   3372.00   3341.00   3322.00  \n",
       "3         94.35     94.72     92.82     91.83  \n",
       "4         79.36     77.40     80.19     77.28  \n",
       "...         ...       ...       ...       ...  \n",
       "60938     46.00     33.00     19.00     16.00  \n",
       "60939      3.33      2.35      1.33      1.08  \n",
       "60940      4.00      3.00      1.00      1.00  \n",
       "60941      0.11      0.08      0.04      0.04  \n",
       "60942      0.05      0.03      0.02      0.01  \n",
       "\n",
       "[60943 rows x 12 columns]"
      ]
     },
     "execution_count": 39,
     "metadata": {},
     "output_type": "execute_result"
    }
   ],
   "source": [
    "df.loc[:]"
   ]
  },
  {
   "attachments": {},
   "cell_type": "markdown",
   "metadata": {},
   "source": [
    "### Q16. Answer the following questions based on the African food production dataset provided by the FAO website already provided.\n",
    "### What is the total sum of Wine produced in 2015 and 2018 respectively?\n",
    "Hint: \n",
    "Perform a groupby sum aggregation on 'Item'"
   ]
  },
  {
   "cell_type": "code",
   "execution_count": 99,
   "metadata": {},
   "outputs": [
    {
     "name": "stdout",
     "output_type": "stream",
     "text": [
      "Total sum of Wine produced in 2018:  4251.81\n",
      "Total sum of Wine produced in 2018:  4039.32\n"
     ]
    }
   ],
   "source": [
    "# First lets group by year 'Y2015' and 'Y2018'\n",
    "\n",
    "# Subset the dataframe for summed Items for year 2015\n",
    "df_2015 = df.groupby('Item')['Y2015'].sum()\n",
    "# use 'loc' to search for 'Wine' in items\n",
    "print(\"Total sum of Wine produced in 2018: \",df_2015.loc['Wine'])\n",
    "\n",
    "# Subset the dataframe for summed Items for year 2018\n",
    "df_2018 = df.groupby('Item')['Y2018'].sum()\n",
    "# use 'loc' to search for 'Wine' in items\n",
    "print(\"Total sum of Wine produced in 2018: \", df_2018.loc['Wine'])\n",
    "\n",
    "\n"
   ]
  },
  {
   "attachments": {},
   "cell_type": "markdown",
   "metadata": {},
   "source": [
    "Q17. Given the following python code, what would the output of the code give?\n"
   ]
  },
  {
   "cell_type": "code",
   "execution_count": 100,
   "metadata": {},
   "outputs": [
    {
     "ename": "TypeError",
     "evalue": "'tuple' object does not support item assignment",
     "output_type": "error",
     "traceback": [
      "\u001b[0;31m---------------------------------------------------------------------------\u001b[0m",
      "\u001b[0;31mTypeError\u001b[0m                                 Traceback (most recent call last)",
      "Cell \u001b[0;32mIn[100], line 3\u001b[0m\n\u001b[1;32m      1\u001b[0m my_tuppy \u001b[39m=\u001b[39m (\u001b[39m1\u001b[39m, \u001b[39m2\u001b[39m, \u001b[39m5\u001b[39m, \u001b[39m8\u001b[39m)\n\u001b[0;32m----> 3\u001b[0m my_tuppy[\u001b[39m2\u001b[39;49m] \u001b[39m=\u001b[39m \u001b[39m6\u001b[39m\n",
      "\u001b[0;31mTypeError\u001b[0m: 'tuple' object does not support item assignment"
     ]
    }
   ],
   "source": [
    "\n",
    "my_tuppy = (1, 2, 5, 8)\n",
    "\n",
    "my_tuppy[2] = 6\n",
    "\n",
    "#Type error\n"
   ]
  },
  {
   "attachments": {},
   "cell_type": "markdown",
   "metadata": {},
   "source": [
    "### Q18. What is the total Protein supply quantity in Madagascar in 2015?"
   ]
  },
  {
   "cell_type": "code",
   "execution_count": 113,
   "metadata": {},
   "outputs": [
    {
     "data": {
      "text/plain": [
       "Area   Element\n",
       "False  False      7894004.43\n",
       "       True         11660.90\n",
       "True   False       126501.85\n",
       "       True           173.05\n",
       "Name: Y2015, dtype: float64"
      ]
     },
     "execution_count": 113,
     "metadata": {},
     "output_type": "execute_result"
    }
   ],
   "source": [
    "mad_prot_supply_2015 = df.groupby([df['Area'] == 'Madagascar', df['Element'] == 'Protein supply quantity (g/capita/day)' ])['Y2015'].sum()\n",
    "mad_prot_supply_2015\n"
   ]
  },
  {
   "attachments": {},
   "cell_type": "markdown",
   "metadata": {},
   "source": [
    "### Q19. A pandas Dataframe with dimensions(100, 3) has how many features and observations?\n",
    "> ### Answer: In a pandas DataFrame with dimensions (100, 3), there are 3 features (columns) and 100 observations (rows).\n",
    "\n"
   ]
  },
  {
   "attachments": {},
   "cell_type": "markdown",
   "metadata": {},
   "source": [
    "### Q20. Select columns 'Y2017' and 'Area', Perform a groupby operation on 'Area'. Which of these Areas had the highest sum in 2017"
   ]
  },
  {
   "cell_type": "code",
   "execution_count": 116,
   "metadata": {},
   "outputs": [
    {
     "data": {
      "text/plain": [
       "Area\n",
       "Nigeria                        1483268.23\n",
       "Egypt                           866379.92\n",
       "South Africa                    517590.54\n",
       "Ethiopia                        448683.76\n",
       "Morocco                         388495.36\n",
       "Ghana                           337599.06\n",
       "Algeria                         325644.27\n",
       "United Republic of Tanzania     322616.85\n",
       "Kenya                           264660.66\n",
       "Sudan                           239931.92\n",
       "Cameroon                        232030.43\n",
       "Angola                          229159.57\n",
       "Côte d'Ivoire                   224599.01\n",
       "Uganda                          213950.38\n",
       "Malawi                          181098.71\n",
       "Mozambique                      161407.98\n",
       "Mauritania                      156665.46\n",
       "Mali                            149928.33\n",
       "Madagascar                      131197.73\n",
       "Niger                           126707.58\n",
       "Benin                           124771.22\n",
       "Tunisia                         124167.20\n",
       "Zambia                          103223.77\n",
       "Burkina Faso                    101855.07\n",
       "Guinea                           98138.87\n",
       "Senegal                          95681.15\n",
       "Zimbabwe                         75919.34\n",
       "Rwanda                           73663.69\n",
       "Chad                             71594.68\n",
       "Sierra Leone                     55311.33\n",
       "Eswatini                         54343.33\n",
       "Mauritius                        51114.83\n",
       "Togo                             49841.88\n",
       "Congo                            41181.68\n",
       "Central African Republic         29937.00\n",
       "Namibia                          29874.89\n",
       "Liberia                          29342.20\n",
       "Gabon                            27979.64\n",
       "Gambia                           23154.18\n",
       "Djibouti                         22729.91\n",
       "Botswana                         22101.30\n",
       "Lesotho                          21267.96\n",
       "Guinea-Bissau                    19102.77\n",
       "Cabo Verde                       14650.74\n",
       "Sao Tome and Principe            12662.63\n",
       "Seychelles                         442.34\n",
       "Comoros                             59.84\n",
       "Sudan (former)                       0.00\n",
       "Ethiopia PDR                         0.00\n",
       "Name: Y2017, dtype: float64"
      ]
     },
     "execution_count": 116,
     "metadata": {},
     "output_type": "execute_result"
    }
   ],
   "source": [
    "df_subset = df.groupby('Area')['Y2017'].sum().sort_values(ascending=False)\n",
    "df_subset"
   ]
  },
  {
   "cell_type": "code",
   "execution_count": null,
   "metadata": {},
   "outputs": [],
   "source": []
  }
 ],
 "metadata": {
  "kernelspec": {
   "display_name": "hamoye",
   "language": "python",
   "name": "python3"
  },
  "language_info": {
   "codemirror_mode": {
    "name": "ipython",
    "version": 3
   },
   "file_extension": ".py",
   "mimetype": "text/x-python",
   "name": "python",
   "nbconvert_exporter": "python",
   "pygments_lexer": "ipython3",
   "version": "3.10.9"
  },
  "orig_nbformat": 4
 },
 "nbformat": 4,
 "nbformat_minor": 2
}
